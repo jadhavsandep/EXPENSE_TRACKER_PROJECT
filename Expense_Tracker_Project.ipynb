{
 "cells": [
  {
   "cell_type": "code",
   "execution_count": null,
   "id": "b4a68578-d41d-46ba-926b-43d5af9eaefb",
   "metadata": {},
   "outputs": [
    {
     "name": "stdout",
     "output_type": "stream",
     "text": [
      "\n",
      "Expense Tracker\n",
      "1. Add Expense\n",
      "2. View Expenses\n",
      "3. Analyze Expenses\n",
      "4. Exit\n"
     ]
    },
    {
     "name": "stdin",
     "output_type": "stream",
     "text": [
      "Enter your choice:  1\n",
      "Enter description:  coffee\n",
      "Enter amount:  3\n",
      "Enter category (Food, Transportation, Entertainment, Utilities, Others):  Food\n",
      "Enter date (YYYY-MM-DD) or press Enter for today:  2025-01-21\n"
     ]
    },
    {
     "name": "stdout",
     "output_type": "stream",
     "text": [
      "Expense added successfully!\n",
      "\n",
      "Expense Tracker\n",
      "1. Add Expense\n",
      "2. View Expenses\n",
      "3. Analyze Expenses\n",
      "4. Exit\n"
     ]
    },
    {
     "name": "stdin",
     "output_type": "stream",
     "text": [
      "Enter your choice:  1\n",
      "Enter description:  lunch\n",
      "Enter amount:  60\n",
      "Enter category (Food, Transportation, Entertainment, Utilities, Others):  Food\n",
      "Enter date (YYYY-MM-DD) or press Enter for today:  2025-01-22\n"
     ]
    },
    {
     "name": "stdout",
     "output_type": "stream",
     "text": [
      "Expense added successfully!\n",
      "\n",
      "Expense Tracker\n",
      "1. Add Expense\n",
      "2. View Expenses\n",
      "3. Analyze Expenses\n",
      "4. Exit\n"
     ]
    },
    {
     "name": "stdin",
     "output_type": "stream",
     "text": [
      "Enter your choice:  1\n",
      "Enter description:  film\n",
      "Enter amount:  500\n",
      "Enter category (Food, Transportation, Entertainment, Utilities, Others):  Enterainment\n"
     ]
    },
    {
     "name": "stdout",
     "output_type": "stream",
     "text": [
      "Invalid category. Defaulting to 'Others'.\n"
     ]
    },
    {
     "name": "stdin",
     "output_type": "stream",
     "text": [
      "Enter date (YYYY-MM-DD) or press Enter for today:  2025-01-23\n"
     ]
    },
    {
     "name": "stdout",
     "output_type": "stream",
     "text": [
      "Expense added successfully!\n",
      "\n",
      "Expense Tracker\n",
      "1. Add Expense\n",
      "2. View Expenses\n",
      "3. Analyze Expenses\n",
      "4. Exit\n"
     ]
    },
    {
     "name": "stdin",
     "output_type": "stream",
     "text": [
      "Enter your choice:  1\n",
      "Enter description:  vegitables\n",
      "Enter amount:  30\n",
      "Enter category (Food, Transportation, Entertainment, Utilities, Others):  Others\n",
      "Enter date (YYYY-MM-DD) or press Enter for today:  2025-01-24\n"
     ]
    },
    {
     "name": "stdout",
     "output_type": "stream",
     "text": [
      "Expense added successfully!\n",
      "\n",
      "Expense Tracker\n",
      "1. Add Expense\n",
      "2. View Expenses\n",
      "3. Analyze Expenses\n",
      "4. Exit\n"
     ]
    },
    {
     "name": "stdin",
     "output_type": "stream",
     "text": [
      "Enter your choice:  1\n",
      "Enter description:  bus\n",
      "Enter amount:  12\n",
      "Enter category (Food, Transportation, Entertainment, Utilities, Others):  Transportation\n",
      "Enter date (YYYY-MM-DD) or press Enter for today:  2025-01-25\n"
     ]
    },
    {
     "name": "stdout",
     "output_type": "stream",
     "text": [
      "Expense added successfully!\n",
      "\n",
      "Expense Tracker\n",
      "1. Add Expense\n",
      "2. View Expenses\n",
      "3. Analyze Expenses\n",
      "4. Exit\n"
     ]
    },
    {
     "name": "stdin",
     "output_type": "stream",
     "text": [
      "Enter your choice:  1\n",
      "Enter description:  grocerices\n",
      "Enter amount:  2000\n",
      "Enter category (Food, Transportation, Entertainment, Utilities, Others):  Utilities\n",
      "Enter date (YYYY-MM-DD) or press Enter for today:  2025-01-26\n"
     ]
    },
    {
     "name": "stdout",
     "output_type": "stream",
     "text": [
      "Expense added successfully!\n",
      "\n",
      "Expense Tracker\n",
      "1. Add Expense\n",
      "2. View Expenses\n",
      "3. Analyze Expenses\n",
      "4. Exit\n"
     ]
    }
   ],
   "source": [
    "# File: expense_tracker.py\n",
    "import json\n",
    "from datetime import datetime\n",
    "\n",
    "# Constants\n",
    "DATA_FILE = \"expenses.json\"\n",
    "CATEGORIES = [\"Food\", \"Transportation\", \"Entertainment\", \"Utilities\", \"Others\"]\n",
    "\n",
    "# Load expenses from file\n",
    "def load_data():\n",
    "    try:\n",
    "        with open(DATA_FILE, 'r') as file:\n",
    "            return json.load(file)\n",
    "    except FileNotFoundError:\n",
    "        return []  # Return empty list if file doesn't exist\n",
    "    except json.JSONDecodeError:\n",
    "        print(\"Error: Corrupted data file. Starting fresh.\")\n",
    "        return []\n",
    "\n",
    "# Save expenses to file\n",
    "def save_data(expenses):\n",
    "    with open(DATA_FILE, 'w') as file:\n",
    "        json.dump(expenses, file, indent=4)\n",
    "\n",
    "# Add a new expense\n",
    "def add_expense():\n",
    "    try:\n",
    "        description = input(\"Enter description: \")\n",
    "        amount = float(input(\"Enter amount: \"))\n",
    "        if amount <= 0:\n",
    "            raise ValueError(\"Amount must be positive.\")\n",
    "        category = input(f\"Enter category ({', '.join(CATEGORIES)}): \")\n",
    "        if category not in CATEGORIES:\n",
    "            print(\"Invalid category. Defaulting to 'Others'.\")\n",
    "            category = \"Others\"\n",
    "        date_str = input(\"Enter date (YYYY-MM-DD) or press Enter for today: \")\n",
    "        date = datetime.strptime(date_str, \"%Y-%m-%d\") if date_str else datetime.now()\n",
    "\n",
    "        expense = {\n",
    "            \"description\": description,\n",
    "            \"amount\": amount,\n",
    "            \"category\": category,\n",
    "            \"date\": date.strftime(\"%Y-%m-%d\")\n",
    "        }\n",
    "        expenses = load_data()\n",
    "        expenses.append(expense)\n",
    "        save_data(expenses)\n",
    "        print(\"Expense added successfully!\")\n",
    "    except ValueError as e:\n",
    "        print(f\"Error: {e}\")\n",
    "    except Exception as e:\n",
    "        print(f\"Unexpected error: {e}\")\n",
    "\n",
    "# View all expenses\n",
    "def view_expenses():\n",
    "    expenses = load_data()\n",
    "    if not expenses:\n",
    "        print(\"No expenses recorded.\")\n",
    "        return\n",
    "\n",
    "    print(f\"{'Date':<12} {'Description':<20} {'Category':<15} {'Amount':>10}\")\n",
    "    print(\"-\" * 60)\n",
    "    for expense in expenses:\n",
    "        print(f\"{expense['date']:<12} {expense['description']:<20} {expense['category']:<15} {expense['amount']:>10.2f}\")\n",
    "    print(\"-\" * 60)\n",
    "\n",
    "# Analyze expenses\n",
    "def analyze_expenses():\n",
    "    expenses = load_data()\n",
    "    if not expenses:\n",
    "        print(\"No expenses to analyze.\")\n",
    "        return\n",
    "\n",
    "    monthly_totals = {}\n",
    "    category_totals = {cat: 0 for cat in CATEGORIES}\n",
    "\n",
    "    for expense in expenses:\n",
    "        month = expense['date'][:7]  # Extract YYYY-MM\n",
    "        monthly_totals[month] = monthly_totals.get(month, 0) + expense['amount']\n",
    "        category_totals[expense['category']] += expense['amount']\n",
    "\n",
    "    print(\"\\nMonthly Totals:\")\n",
    "    for month, total in monthly_totals.items():\n",
    "        print(f\"{month}: {total:.2f}\")\n",
    "\n",
    "    print(\"\\nCategory Totals:\")\n",
    "    for category, total in category_totals.items():\n",
    "        print(f\"{category}: {total:.2f}\")\n",
    "\n",
    "# Main Menu\n",
    "def main():\n",
    "    while True:\n",
    "        print(\"\\nExpense Tracker\")\n",
    "        print(\"1. Add Expense\")\n",
    "        print(\"2. View Expenses\")\n",
    "        print(\"3. Analyze Expenses\")\n",
    "        print(\"4. Exit\")\n",
    "        choice = input(\"Enter your choice: \")\n",
    "\n",
    "        if choice == \"1\":\n",
    "            add_expense()\n",
    "        elif choice == \"2\":\n",
    "            view_expenses()\n",
    "        elif choice == \"3\":\n",
    "            analyze_expenses()\n",
    "        elif choice == \"4\":\n",
    "            print(\"Goodbye!\")\n",
    "            break\n",
    "        else:\n",
    "            print(\"Invalid choice. Please try again.\")\n",
    "\n",
    "if __name__ == \"__main__\":\n",
    "    main()\n"
   ]
  },
  {
   "cell_type": "code",
   "execution_count": null,
   "id": "b43b8748-25ca-42fe-9a96-e6fed33261bf",
   "metadata": {},
   "outputs": [],
   "source": []
  }
 ],
 "metadata": {
  "kernelspec": {
   "display_name": "Python 3 (ipykernel)",
   "language": "python",
   "name": "python3"
  },
  "language_info": {
   "codemirror_mode": {
    "name": "ipython",
    "version": 3
   },
   "file_extension": ".py",
   "mimetype": "text/x-python",
   "name": "python",
   "nbconvert_exporter": "python",
   "pygments_lexer": "ipython3",
   "version": "3.12.4"
  }
 },
 "nbformat": 4,
 "nbformat_minor": 5
}
